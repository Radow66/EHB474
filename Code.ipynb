{
  "cells": [
    {
      "cell_type": "code",
      "execution_count": 10,
      "metadata": {
        "colab": {
          "base_uri": "https://localhost:8080/",
          "height": 142
        },
        "id": "6RN1DFyOCtSD",
        "outputId": "c9192128-eebb-491f-d451-a3d1468e1c6b"
      },
      "outputs": [
        {
          "output_type": "display_data",
          "data": {
            "text/plain": [
              "<IPython.core.display.HTML object>"
            ],
            "text/html": [
              "\n",
              "     <input type=\"file\" id=\"files-6ae36b1f-55fe-4ef0-9da2-24f227ab2104\" name=\"files[]\" multiple disabled\n",
              "        style=\"border:none\" />\n",
              "     <output id=\"result-6ae36b1f-55fe-4ef0-9da2-24f227ab2104\">\n",
              "      Upload widget is only available when the cell has been executed in the\n",
              "      current browser session. Please rerun this cell to enable.\n",
              "      </output>\n",
              "      <script>// Copyright 2017 Google LLC\n",
              "//\n",
              "// Licensed under the Apache License, Version 2.0 (the \"License\");\n",
              "// you may not use this file except in compliance with the License.\n",
              "// You may obtain a copy of the License at\n",
              "//\n",
              "//      http://www.apache.org/licenses/LICENSE-2.0\n",
              "//\n",
              "// Unless required by applicable law or agreed to in writing, software\n",
              "// distributed under the License is distributed on an \"AS IS\" BASIS,\n",
              "// WITHOUT WARRANTIES OR CONDITIONS OF ANY KIND, either express or implied.\n",
              "// See the License for the specific language governing permissions and\n",
              "// limitations under the License.\n",
              "\n",
              "/**\n",
              " * @fileoverview Helpers for google.colab Python module.\n",
              " */\n",
              "(function(scope) {\n",
              "function span(text, styleAttributes = {}) {\n",
              "  const element = document.createElement('span');\n",
              "  element.textContent = text;\n",
              "  for (const key of Object.keys(styleAttributes)) {\n",
              "    element.style[key] = styleAttributes[key];\n",
              "  }\n",
              "  return element;\n",
              "}\n",
              "\n",
              "// Max number of bytes which will be uploaded at a time.\n",
              "const MAX_PAYLOAD_SIZE = 100 * 1024;\n",
              "\n",
              "function _uploadFiles(inputId, outputId) {\n",
              "  const steps = uploadFilesStep(inputId, outputId);\n",
              "  const outputElement = document.getElementById(outputId);\n",
              "  // Cache steps on the outputElement to make it available for the next call\n",
              "  // to uploadFilesContinue from Python.\n",
              "  outputElement.steps = steps;\n",
              "\n",
              "  return _uploadFilesContinue(outputId);\n",
              "}\n",
              "\n",
              "// This is roughly an async generator (not supported in the browser yet),\n",
              "// where there are multiple asynchronous steps and the Python side is going\n",
              "// to poll for completion of each step.\n",
              "// This uses a Promise to block the python side on completion of each step,\n",
              "// then passes the result of the previous step as the input to the next step.\n",
              "function _uploadFilesContinue(outputId) {\n",
              "  const outputElement = document.getElementById(outputId);\n",
              "  const steps = outputElement.steps;\n",
              "\n",
              "  const next = steps.next(outputElement.lastPromiseValue);\n",
              "  return Promise.resolve(next.value.promise).then((value) => {\n",
              "    // Cache the last promise value to make it available to the next\n",
              "    // step of the generator.\n",
              "    outputElement.lastPromiseValue = value;\n",
              "    return next.value.response;\n",
              "  });\n",
              "}\n",
              "\n",
              "/**\n",
              " * Generator function which is called between each async step of the upload\n",
              " * process.\n",
              " * @param {string} inputId Element ID of the input file picker element.\n",
              " * @param {string} outputId Element ID of the output display.\n",
              " * @return {!Iterable<!Object>} Iterable of next steps.\n",
              " */\n",
              "function* uploadFilesStep(inputId, outputId) {\n",
              "  const inputElement = document.getElementById(inputId);\n",
              "  inputElement.disabled = false;\n",
              "\n",
              "  const outputElement = document.getElementById(outputId);\n",
              "  outputElement.innerHTML = '';\n",
              "\n",
              "  const pickedPromise = new Promise((resolve) => {\n",
              "    inputElement.addEventListener('change', (e) => {\n",
              "      resolve(e.target.files);\n",
              "    });\n",
              "  });\n",
              "\n",
              "  const cancel = document.createElement('button');\n",
              "  inputElement.parentElement.appendChild(cancel);\n",
              "  cancel.textContent = 'Cancel upload';\n",
              "  const cancelPromise = new Promise((resolve) => {\n",
              "    cancel.onclick = () => {\n",
              "      resolve(null);\n",
              "    };\n",
              "  });\n",
              "\n",
              "  // Wait for the user to pick the files.\n",
              "  const files = yield {\n",
              "    promise: Promise.race([pickedPromise, cancelPromise]),\n",
              "    response: {\n",
              "      action: 'starting',\n",
              "    }\n",
              "  };\n",
              "\n",
              "  cancel.remove();\n",
              "\n",
              "  // Disable the input element since further picks are not allowed.\n",
              "  inputElement.disabled = true;\n",
              "\n",
              "  if (!files) {\n",
              "    return {\n",
              "      response: {\n",
              "        action: 'complete',\n",
              "      }\n",
              "    };\n",
              "  }\n",
              "\n",
              "  for (const file of files) {\n",
              "    const li = document.createElement('li');\n",
              "    li.append(span(file.name, {fontWeight: 'bold'}));\n",
              "    li.append(span(\n",
              "        `(${file.type || 'n/a'}) - ${file.size} bytes, ` +\n",
              "        `last modified: ${\n",
              "            file.lastModifiedDate ? file.lastModifiedDate.toLocaleDateString() :\n",
              "                                    'n/a'} - `));\n",
              "    const percent = span('0% done');\n",
              "    li.appendChild(percent);\n",
              "\n",
              "    outputElement.appendChild(li);\n",
              "\n",
              "    const fileDataPromise = new Promise((resolve) => {\n",
              "      const reader = new FileReader();\n",
              "      reader.onload = (e) => {\n",
              "        resolve(e.target.result);\n",
              "      };\n",
              "      reader.readAsArrayBuffer(file);\n",
              "    });\n",
              "    // Wait for the data to be ready.\n",
              "    let fileData = yield {\n",
              "      promise: fileDataPromise,\n",
              "      response: {\n",
              "        action: 'continue',\n",
              "      }\n",
              "    };\n",
              "\n",
              "    // Use a chunked sending to avoid message size limits. See b/62115660.\n",
              "    let position = 0;\n",
              "    do {\n",
              "      const length = Math.min(fileData.byteLength - position, MAX_PAYLOAD_SIZE);\n",
              "      const chunk = new Uint8Array(fileData, position, length);\n",
              "      position += length;\n",
              "\n",
              "      const base64 = btoa(String.fromCharCode.apply(null, chunk));\n",
              "      yield {\n",
              "        response: {\n",
              "          action: 'append',\n",
              "          file: file.name,\n",
              "          data: base64,\n",
              "        },\n",
              "      };\n",
              "\n",
              "      let percentDone = fileData.byteLength === 0 ?\n",
              "          100 :\n",
              "          Math.round((position / fileData.byteLength) * 100);\n",
              "      percent.textContent = `${percentDone}% done`;\n",
              "\n",
              "    } while (position < fileData.byteLength);\n",
              "  }\n",
              "\n",
              "  // All done.\n",
              "  yield {\n",
              "    response: {\n",
              "      action: 'complete',\n",
              "    }\n",
              "  };\n",
              "}\n",
              "\n",
              "scope.google = scope.google || {};\n",
              "scope.google.colab = scope.google.colab || {};\n",
              "scope.google.colab._files = {\n",
              "  _uploadFiles,\n",
              "  _uploadFilesContinue,\n",
              "};\n",
              "})(self);\n",
              "</script> "
            ]
          },
          "metadata": {}
        },
        {
          "output_type": "stream",
          "name": "stdout",
          "text": [
            "Saving kaggle.json to kaggle.json\n",
            "Downloading digit-recognizer.zip to /kaggle/input/digit-recognizer\n",
            "  0% 0.00/15.3M [00:00<?, ?B/s]\n",
            "100% 15.3M/15.3M [00:00<00:00, 1.23GB/s]\n",
            "✅ Downloaded to /kaggle/input/digit-recognizer\n"
          ]
        }
      ],
      "source": [
        "# 1) install & authenticate Kaggle CLI\n",
        "!pip install kaggle --quiet\n",
        "\n",
        "from google.colab import files\n",
        "files.upload()   # select your kaggle.json token from your local machine\n",
        "\n",
        "!mkdir -p ~/.kaggle\n",
        "!mv kaggle.json ~/.kaggle/\n",
        "!chmod 600 ~/.kaggle/kaggle.json\n",
        "\n",
        "# 2) download & unzip the Digit Recognizer competition\n",
        "COMPETITION = \"digit-recognizer\"   # https://www.kaggle.com/c/digit-recognizer/data\n",
        "import os\n",
        "os.makedirs(f\"/kaggle/input/{COMPETITION}\", exist_ok=True)\n",
        "\n",
        "!kaggle competitions download -c {COMPETITION} -p /kaggle/input/{COMPETITION}\n",
        "!unzip -q /kaggle/input/{COMPETITION}/*.zip -d /kaggle/input/{COMPETITION}\n",
        "\n",
        "print(\"✅ Downloaded to /kaggle/input/digit-recognizer\")\n"
      ]
    },
    {
      "cell_type": "markdown",
      "metadata": {
        "id": "5U7W4JpfCtSF"
      },
      "source": [
        "#### Imports"
      ]
    },
    {
      "cell_type": "code",
      "execution_count": 11,
      "metadata": {
        "id": "u5kD2c_TCtSG"
      },
      "outputs": [],
      "source": [
        "#pytorch utility imports\n",
        "import torch\n",
        "import torchvision\n",
        "import torchvision.transforms as transforms\n",
        "from torch.utils.data import DataLoader, TensorDataset\n",
        "from torchvision.utils import make_grid\n",
        "\n",
        "#neural net imports\n",
        "import torch.nn as nn\n",
        "import torch.nn.functional as F\n",
        "import torch.optim as optim\n",
        "from torch.autograd import Variable"
      ]
    },
    {
      "cell_type": "code",
      "execution_count": 12,
      "metadata": {
        "id": "k3X1IOTsCtSG"
      },
      "outputs": [],
      "source": [
        "#import external libraries\n",
        "import pandas as pd\n",
        "import numpy as np\n",
        "import matplotlib.pyplot as plt\n",
        "from sklearn.model_selection import train_test_split\n",
        "import os\n",
        "import math\n",
        "%matplotlib inline"
      ]
    },
    {
      "cell_type": "markdown",
      "metadata": {
        "id": "IU4EkeScCtSH"
      },
      "source": [
        "Check for CUDA"
      ]
    },
    {
      "cell_type": "code",
      "execution_count": 13,
      "metadata": {
        "id": "SQB3tPppCtSH",
        "colab": {
          "base_uri": "https://localhost:8080/"
        },
        "outputId": "1961690d-61e9-438e-da2a-4f17b4eae953"
      },
      "outputs": [
        {
          "output_type": "stream",
          "name": "stdout",
          "text": [
            "True\n",
            "True\n",
            "cuda\n"
          ]
        }
      ],
      "source": [
        "print(torch.cuda.is_available())\n",
        "print(torch.backends.cudnn.enabled)\n",
        "\n",
        "if torch.cuda.is_available():\n",
        "    device = torch.device('cuda')\n",
        "print(device)"
      ]
    },
    {
      "cell_type": "markdown",
      "metadata": {
        "id": "Zgy-v4OkCtSH"
      },
      "source": [
        "#### Read inputs"
      ]
    },
    {
      "cell_type": "code",
      "execution_count": 15,
      "metadata": {
        "id": "UBCD-Vl7CtSH",
        "colab": {
          "base_uri": "https://localhost:8080/"
        },
        "outputId": "6a356c71-4d90-453f-d1ee-ac572ae95aec"
      },
      "outputs": [
        {
          "output_type": "stream",
          "name": "stdout",
          "text": [
            "digit-recognizer\n"
          ]
        }
      ],
      "source": [
        "! ls /kaggle/input/"
      ]
    },
    {
      "cell_type": "code",
      "execution_count": 16,
      "metadata": {
        "id": "wD8BzlJkCtSH"
      },
      "outputs": [],
      "source": [
        "input_folder_path = \"../kaggle/input/digit-recognizer/\"\n",
        "train_df = pd.read_csv(input_folder_path+\"train.csv\")\n",
        "test_df = pd.read_csv(input_folder_path+\"test.csv\")"
      ]
    },
    {
      "cell_type": "markdown",
      "metadata": {
        "id": "eyg0Js9SCtSI"
      },
      "source": [
        "#### Separate into labels and training images and reshape the images"
      ]
    },
    {
      "cell_type": "code",
      "execution_count": 17,
      "metadata": {
        "id": "BWK6iGvzCtSI"
      },
      "outputs": [],
      "source": [
        "train_labels = train_df['label'].values\n",
        "train_images = (train_df.iloc[:,1:].values).astype('float32')\n",
        "test_images = (test_df.iloc[:,:].values).astype('float32')\n",
        "\n",
        "#Training and Validation Split\n",
        "train_images, val_images, train_labels, val_labels = train_test_split(train_images, train_labels,\n",
        "                                                                     stratify=train_labels, random_state=123,\n",
        "                                                                     test_size=0.20)"
      ]
    },
    {
      "cell_type": "code",
      "execution_count": 18,
      "metadata": {
        "id": "b_QDbS5PCtSI"
      },
      "outputs": [],
      "source": [
        "train_images = train_images.reshape(train_images.shape[0], 28, 28)\n",
        "val_images = val_images.reshape(val_images.shape[0], 28, 28)\n",
        "test_images = test_images.reshape(test_images.shape[0], 28, 28)"
      ]
    },
    {
      "cell_type": "markdown",
      "metadata": {
        "id": "x6iCpUwlCtSI"
      },
      "source": [
        "#### Plot some images to see samples"
      ]
    },
    {
      "cell_type": "code",
      "execution_count": 19,
      "metadata": {
        "id": "Xis0Jk_CCtSI",
        "colab": {
          "base_uri": "https://localhost:8080/",
          "height": 191
        },
        "outputId": "4fcdcdae-4c62-4dba-bf0e-ca2f8bef50c3"
      },
      "outputs": [
        {
          "output_type": "display_data",
          "data": {
            "text/plain": [
              "<Figure size 640x480 with 3 Axes>"
            ],
            "image/png": "[encoded data removed]"
          },
          "metadata": {}
        }
      ],
      "source": [
        "#train samples\n",
        "for i in range(6, 9):\n",
        "    plt.subplot(330 + (i+1))\n",
        "    plt.imshow(train_images[i].squeeze(), cmap=plt.get_cmap('gray'))\n",
        "    plt.title(train_labels[i])"
      ]
    },
    {
      "cell_type": "code",
      "execution_count": 20,
      "metadata": {
        "id": "ydA1umhdCtSJ",
        "colab": {
          "base_uri": "https://localhost:8080/",
          "height": 172
        },
        "outputId": "d88d0474-a2e4-42f6-d774-7cc25f6104fb"
      },
      "outputs": [
        {
          "output_type": "display_data",
          "data": {
            "text/plain": [
              "<Figure size 640x480 with 3 Axes>"
            ],
            "image/png": "[encoded data removed]"
          },
          "metadata": {}
        }
      ],
      "source": [
        "#test samples\n",
        "for i in range(6, 9):\n",
        "    plt.subplot(330 + (i+1))\n",
        "    plt.imshow(test_images[i].squeeze(), cmap=plt.get_cmap('gray'))"
      ]
    },
    {
      "cell_type": "markdown",
      "metadata": {
        "id": "Q2jwGPxsCtSJ"
      },
      "source": [
        "#### Convert images to tensors\n",
        "Normalize the images too"
      ]
    },
    {
      "cell_type": "code",
      "execution_count": 21,
      "metadata": {
        "id": "d0uYUgeICtSJ"
      },
      "outputs": [],
      "source": [
        "#train\n",
        "train_images_tensor = torch.tensor(train_images)/255.0\n",
        "train_labels_tensor = torch.tensor(train_labels)\n",
        "train_tensor = TensorDataset(train_images_tensor, train_labels_tensor)\n",
        "\n",
        "#val\n",
        "val_images_tensor = torch.tensor(val_images)/255.0\n",
        "val_labels_tensor = torch.tensor(val_labels)\n",
        "val_tensor = TensorDataset(val_images_tensor, val_labels_tensor)\n",
        "\n",
        "#test\n",
        "test_images_tensor = torch.tensor(test_images)/255.0"
      ]
    },
    {
      "cell_type": "markdown",
      "metadata": {
        "id": "_iakM9f0CtSJ"
      },
      "source": [
        "#### Load images into the data generator"
      ]
    },
    {
      "cell_type": "code",
      "execution_count": 22,
      "metadata": {
        "id": "ixbIauwPCtSJ"
      },
      "outputs": [],
      "source": [
        "train_loader = DataLoader(train_tensor, batch_size=16, num_workers=2, shuffle=True)\n",
        "val_loader = DataLoader(val_tensor, batch_size=16, num_workers=2, shuffle=True)\n",
        "test_loader = DataLoader(test_images_tensor, batch_size=16, num_workers=2, shuffle=False)"
      ]
    },
    {
      "cell_type": "markdown",
      "metadata": {
        "id": "QfIu0xq9CtSK"
      },
      "source": [
        "#### Plot some sample images using the data generator"
      ]
    },
    {
      "cell_type": "code",
      "execution_count": 23,
      "metadata": {
        "id": "vuu0BnfDCtSK",
        "colab": {
          "base_uri": "https://localhost:8080/",
          "height": 130
        },
        "outputId": "61d36308-e2ab-48bd-ea0c-ce92116e950f"
      },
      "outputs": [
        {
          "output_type": "display_data",
          "data": {
            "text/plain": [
              "<Figure size 640x480 with 1 Axes>"
            ],
            "image/png": "[encoded data removed]"
          },
          "metadata": {}
        }
      ],
      "source": [
        "for batch_idx, (data, target) in enumerate(train_loader):\n",
        "    img_grid = make_grid(data[0:8,].unsqueeze(1), nrow=8)\n",
        "    img_target_labels = target[0:8,].numpy()\n",
        "    break\n",
        "\n",
        "plt.imshow(img_grid.numpy().transpose((1,2,0)))\n",
        "plt.rcParams['figure.figsize'] = (10, 2)\n",
        "#plt.title(img_target_labels, size=16)\n",
        "plt.show()"
      ]
    },
    {
      "cell_type": "markdown",
      "metadata": {
        "id": "CuSDGbQeCtSK"
      },
      "source": [
        "#### Define the CNN Model"
      ]
    },
    {
      "cell_type": "code",
      "execution_count": 24,
      "metadata": {
        "id": "F0nejq7hCtSK"
      },
      "outputs": [],
      "source": [
        "class Net(nn.Module):\n",
        "    def __init__(self):\n",
        "        super(Net, self).__init__()\n",
        "\n",
        "        self.conv_block = nn.Sequential(\n",
        "            nn.Conv2d(1, 32, kernel_size=3, stride=1, padding=1),\n",
        "            nn.BatchNorm2d(32),\n",
        "            nn.ReLU(inplace=True),\n",
        "            nn.Conv2d(32, 64, kernel_size=3, stride=1, padding=1),\n",
        "            nn.BatchNorm2d(64),\n",
        "            nn.ReLU(inplace=True),\n",
        "            nn.MaxPool2d(kernel_size=2, stride=2),\n",
        "            nn.Conv2d(64, 128, kernel_size=3, stride=1, padding=1),\n",
        "            nn.BatchNorm2d(128),\n",
        "            nn.ReLU(inplace=True),\n",
        "            nn.MaxPool2d(kernel_size=2, stride=2)\n",
        "        )\n",
        "\n",
        "        self.linear_block = nn.Sequential(\n",
        "            nn.Dropout(p=0.5),\n",
        "            nn.Linear(128*7*7, 128),\n",
        "            nn.BatchNorm1d(128),\n",
        "            nn.ReLU(inplace=True),\n",
        "            nn.Dropout(0.5),\n",
        "            nn.Linear(128, 64),\n",
        "            nn.BatchNorm1d(64),\n",
        "            nn.ReLU(inplace=True),\n",
        "            nn.Dropout(0.5),\n",
        "            nn.Linear(64, 10)\n",
        "        )\n",
        "\n",
        "    def forward(self, x):\n",
        "        x = self.conv_block(x)\n",
        "        x = x.view(x.size(0), -1)\n",
        "        x = self.linear_block(x)\n",
        "\n",
        "        return x"
      ]
    },
    {
      "cell_type": "code",
      "execution_count": 25,
      "metadata": {
        "id": "GTDTJ84SCtSK",
        "colab": {
          "base_uri": "https://localhost:8080/"
        },
        "outputId": "cf1c3acd-5cb9-4521-904c-82f3a2a1f209"
      },
      "outputs": [
        {
          "output_type": "execute_result",
          "data": {
            "text/plain": [
              "Net(\n",
              "  (conv_block): Sequential(\n",
              "    (0): Conv2d(1, 32, kernel_size=(3, 3), stride=(1, 1), padding=(1, 1))\n",
              "    (1): BatchNorm2d(32, eps=1e-05, momentum=0.1, affine=True, track_running_stats=True)\n",
              "    (2): ReLU(inplace=True)\n",
              "    (3): Conv2d(32, 64, kernel_size=(3, 3), stride=(1, 1), padding=(1, 1))\n",
              "    (4): BatchNorm2d(64, eps=1e-05, momentum=0.1, affine=True, track_running_stats=True)\n",
              "    (5): ReLU(inplace=True)\n",
              "    (6): MaxPool2d(kernel_size=2, stride=2, padding=0, dilation=1, ceil_mode=False)\n",
              "    (7): Conv2d(64, 128, kernel_size=(3, 3), stride=(1, 1), padding=(1, 1))\n",
              "    (8): BatchNorm2d(128, eps=1e-05, momentum=0.1, affine=True, track_running_stats=True)\n",
              "    (9): ReLU(inplace=True)\n",
              "    (10): MaxPool2d(kernel_size=2, stride=2, padding=0, dilation=1, ceil_mode=False)\n",
              "  )\n",
              "  (linear_block): Sequential(\n",
              "    (0): Dropout(p=0.5, inplace=False)\n",
              "    (1): Linear(in_features=6272, out_features=128, bias=True)\n",
              "    (2): BatchNorm1d(128, eps=1e-05, momentum=0.1, affine=True, track_running_stats=True)\n",
              "    (3): ReLU(inplace=True)\n",
              "    (4): Dropout(p=0.5, inplace=False)\n",
              "    (5): Linear(in_features=128, out_features=64, bias=True)\n",
              "    (6): BatchNorm1d(64, eps=1e-05, momentum=0.1, affine=True, track_running_stats=True)\n",
              "    (7): ReLU(inplace=True)\n",
              "    (8): Dropout(p=0.5, inplace=False)\n",
              "    (9): Linear(in_features=64, out_features=10, bias=True)\n",
              "  )\n",
              ")"
            ]
          },
          "metadata": {},
          "execution_count": 25
        }
      ],
      "source": [
        "conv_model = Net()\n",
        "conv_model"
      ]
    },
    {
      "cell_type": "markdown",
      "metadata": {
        "id": "5mYAhZfkCtSL"
      },
      "source": [
        "#### Define the optimizer and loss functions"
      ]
    },
    {
      "cell_type": "code",
      "execution_count": 26,
      "metadata": {
        "id": "ZsV1pjxICtSL"
      },
      "outputs": [],
      "source": [
        "optimizer = optim.Adam(params=conv_model.parameters(), lr=0.003)\n",
        "criterion = nn.CrossEntropyLoss()\n",
        "\n",
        "exp_lr_scheduler = optim.lr_scheduler.StepLR(optimizer, step_size=7, gamma=0.1)\n",
        "\n",
        "if torch.cuda.is_available():\n",
        "    conv_model = conv_model.cuda()\n",
        "    criterion = criterion.cuda()"
      ]
    },
    {
      "cell_type": "markdown",
      "metadata": {
        "id": "4Hv-zzt2CtSL"
      },
      "source": [
        "#### Training the Model"
      ]
    },
    {
      "cell_type": "code",
      "execution_count": 27,
      "metadata": {
        "id": "F6uuVMU_CtSL",
        "colab": {
          "base_uri": "https://localhost:8080/",
          "height": 1000
        },
        "outputId": "1aa899f1-f580-4349-80cb-c7a3a1d596c5"
      },
      "outputs": [
        {
          "output_type": "stream",
          "name": "stderr",
          "text": [
            "/usr/local/lib/python3.11/dist-packages/torch/optim/lr_scheduler.py:227: UserWarning: Detected call of `lr_scheduler.step()` before `optimizer.step()`. In PyTorch 1.1.0 and later, you should call them in the opposite order: `optimizer.step()` before `lr_scheduler.step()`.  Failure to do this will result in PyTorch skipping the first value of the learning rate schedule. See more details at https://pytorch.org/docs/stable/optim.html#how-to-adjust-learning-rate\n",
            "  warnings.warn(\n"
          ]
        },
        {
          "output_type": "stream",
          "name": "stdout",
          "text": [
            "Train Epoch: 1 [1600/33600 (5%)]\tLoss: 1.330473\n",
            "Train Epoch: 1 [3200/33600 (10%)]\tLoss: 0.561491\n",
            "Train Epoch: 1 [4800/33600 (14%)]\tLoss: 0.481201\n",
            "Train Epoch: 1 [6400/33600 (19%)]\tLoss: 0.340624\n",
            "Train Epoch: 1 [8000/33600 (24%)]\tLoss: 0.981696\n",
            "Train Epoch: 1 [9600/33600 (29%)]\tLoss: 0.107524\n",
            "Train Epoch: 1 [11200/33600 (33%)]\tLoss: 0.299578\n",
            "Train Epoch: 1 [12800/33600 (38%)]\tLoss: 0.430425\n",
            "Train Epoch: 1 [14400/33600 (43%)]\tLoss: 0.156863\n",
            "Train Epoch: 1 [16000/33600 (48%)]\tLoss: 0.377413\n",
            "Train Epoch: 1 [17600/33600 (52%)]\tLoss: 0.222076\n",
            "Train Epoch: 1 [19200/33600 (57%)]\tLoss: 0.214559\n",
            "Train Epoch: 1 [20800/33600 (62%)]\tLoss: 0.255587\n",
            "Train Epoch: 1 [22400/33600 (67%)]\tLoss: 0.122487\n",
            "Train Epoch: 1 [24000/33600 (71%)]\tLoss: 0.214925\n",
            "Train Epoch: 1 [25600/33600 (76%)]\tLoss: 0.306431\n",
            "Train Epoch: 1 [27200/33600 (81%)]\tLoss: 0.176209\n",
            "Train Epoch: 1 [28800/33600 (86%)]\tLoss: 0.029221\n",
            "Train Epoch: 1 [30400/33600 (90%)]\tLoss: 0.134048\n",
            "Train Epoch: 1 [32000/33600 (95%)]\tLoss: 0.146903\n",
            "Train Epoch: 1 [33600/33600 (100%)]\tLoss: 0.243049\n",
            "\n",
            "Val  Epoch Loss: 0.0629, Acc: 8242/8400 (98.12%)\n",
            "\n",
            "Train Epoch: 2 [1600/33600 (5%)]\tLoss: 0.275955\n",
            "Train Epoch: 2 [3200/33600 (10%)]\tLoss: 0.562439\n",
            "Train Epoch: 2 [4800/33600 (14%)]\tLoss: 0.193579\n",
            "Train Epoch: 2 [6400/33600 (19%)]\tLoss: 0.129143\n",
            "Train Epoch: 2 [8000/33600 (24%)]\tLoss: 0.167997\n",
            "Train Epoch: 2 [9600/33600 (29%)]\tLoss: 0.028767\n",
            "Train Epoch: 2 [11200/33600 (33%)]\tLoss: 0.148673\n",
            "Train Epoch: 2 [12800/33600 (38%)]\tLoss: 0.042205\n",
            "Train Epoch: 2 [14400/33600 (43%)]\tLoss: 0.198064\n",
            "Train Epoch: 2 [16000/33600 (48%)]\tLoss: 0.068623\n",
            "Train Epoch: 2 [17600/33600 (52%)]\tLoss: 0.179619\n",
            "Train Epoch: 2 [19200/33600 (57%)]\tLoss: 0.109364\n",
            "Train Epoch: 2 [20800/33600 (62%)]\tLoss: 0.084723\n",
            "Train Epoch: 2 [22400/33600 (67%)]\tLoss: 0.876458\n",
            "Train Epoch: 2 [24000/33600 (71%)]\tLoss: 0.291077\n",
            "Train Epoch: 2 [25600/33600 (76%)]\tLoss: 0.036123\n",
            "Train Epoch: 2 [27200/33600 (81%)]\tLoss: 0.308056\n",
            "Train Epoch: 2 [28800/33600 (86%)]\tLoss: 0.036908\n",
            "Train Epoch: 2 [30400/33600 (90%)]\tLoss: 0.105887\n",
            "Train Epoch: 2 [32000/33600 (95%)]\tLoss: 0.167135\n",
            "Train Epoch: 2 [33600/33600 (100%)]\tLoss: 0.149182\n",
            "\n",
            "Val  Epoch Loss: 0.0502, Acc: 8267/8400 (98.42%)\n",
            "\n",
            "Train Epoch: 3 [1600/33600 (5%)]\tLoss: 0.309221\n",
            "Train Epoch: 3 [3200/33600 (10%)]\tLoss: 0.163762\n",
            "Train Epoch: 3 [4800/33600 (14%)]\tLoss: 0.107043\n",
            "Train Epoch: 3 [6400/33600 (19%)]\tLoss: 0.040405\n",
            "Train Epoch: 3 [8000/33600 (24%)]\tLoss: 1.043704\n",
            "Train Epoch: 3 [9600/33600 (29%)]\tLoss: 0.204768\n",
            "Train Epoch: 3 [11200/33600 (33%)]\tLoss: 0.007400\n",
            "Train Epoch: 3 [12800/33600 (38%)]\tLoss: 0.062268\n",
            "Train Epoch: 3 [14400/33600 (43%)]\tLoss: 0.031709\n",
            "Train Epoch: 3 [16000/33600 (48%)]\tLoss: 0.271162\n",
            "Train Epoch: 3 [17600/33600 (52%)]\tLoss: 0.403897\n",
            "Train Epoch: 3 [19200/33600 (57%)]\tLoss: 0.243323\n",
            "Train Epoch: 3 [20800/33600 (62%)]\tLoss: 0.040800\n",
            "Train Epoch: 3 [22400/33600 (67%)]\tLoss: 0.343611\n",
            "Train Epoch: 3 [24000/33600 (71%)]\tLoss: 0.076711\n",
            "Train Epoch: 3 [25600/33600 (76%)]\tLoss: 0.075168\n",
            "Train Epoch: 3 [27200/33600 (81%)]\tLoss: 0.270192\n",
            "Train Epoch: 3 [28800/33600 (86%)]\tLoss: 0.020819\n",
            "Train Epoch: 3 [30400/33600 (90%)]\tLoss: 0.193799\n",
            "Train Epoch: 3 [32000/33600 (95%)]\tLoss: 0.023915\n",
            "Train Epoch: 3 [33600/33600 (100%)]\tLoss: 0.064091\n",
            "\n",
            "Val  Epoch Loss: 0.0457, Acc: 8293/8400 (98.73%)\n",
            "\n",
            "Train Epoch: 4 [1600/33600 (5%)]\tLoss: 0.146655\n",
            "Train Epoch: 4 [3200/33600 (10%)]\tLoss: 0.004880\n",
            "Train Epoch: 4 [4800/33600 (14%)]\tLoss: 0.144668\n",
            "Train Epoch: 4 [6400/33600 (19%)]\tLoss: 0.283970\n",
            "Train Epoch: 4 [8000/33600 (24%)]\tLoss: 0.018457\n",
            "Train Epoch: 4 [9600/33600 (29%)]\tLoss: 0.193499\n",
            "Train Epoch: 4 [11200/33600 (33%)]\tLoss: 0.020797\n",
            "Train Epoch: 4 [12800/33600 (38%)]\tLoss: 0.005069\n",
            "Train Epoch: 4 [14400/33600 (43%)]\tLoss: 0.017771\n",
            "Train Epoch: 4 [16000/33600 (48%)]\tLoss: 0.143023\n",
            "Train Epoch: 4 [17600/33600 (52%)]\tLoss: 0.087644\n",
            "Train Epoch: 4 [19200/33600 (57%)]\tLoss: 0.112580\n",
            "Train Epoch: 4 [20800/33600 (62%)]\tLoss: 0.142947\n",
            "Train Epoch: 4 [22400/33600 (67%)]\tLoss: 0.212851\n",
            "Train Epoch: 4 [24000/33600 (71%)]\tLoss: 0.243213\n",
            "Train Epoch: 4 [25600/33600 (76%)]\tLoss: 0.040848\n",
            "Train Epoch: 4 [27200/33600 (81%)]\tLoss: 0.035218\n",
            "Train Epoch: 4 [28800/33600 (86%)]\tLoss: 0.092589\n",
            "Train Epoch: 4 [30400/33600 (90%)]\tLoss: 0.080583\n",
            "Train Epoch: 4 [32000/33600 (95%)]\tLoss: 0.042110\n",
            "Train Epoch: 4 [33600/33600 (100%)]\tLoss: 0.065627\n",
            "\n",
            "Val  Epoch Loss: 0.0396, Acc: 8298/8400 (98.79%)\n",
            "\n",
            "Train Epoch: 5 [1600/33600 (5%)]\tLoss: 0.105083\n",
            "Train Epoch: 5 [3200/33600 (10%)]\tLoss: 0.028887\n",
            "Train Epoch: 5 [4800/33600 (14%)]\tLoss: 0.137449\n",
            "Train Epoch: 5 [6400/33600 (19%)]\tLoss: 0.041883\n",
            "Train Epoch: 5 [8000/33600 (24%)]\tLoss: 0.026824\n",
            "Train Epoch: 5 [9600/33600 (29%)]\tLoss: 0.518720\n",
            "Train Epoch: 5 [11200/33600 (33%)]\tLoss: 0.141918\n",
            "Train Epoch: 5 [12800/33600 (38%)]\tLoss: 0.004707\n",
            "Train Epoch: 5 [14400/33600 (43%)]\tLoss: 0.477378\n",
            "Train Epoch: 5 [16000/33600 (48%)]\tLoss: 0.011896\n",
            "Train Epoch: 5 [17600/33600 (52%)]\tLoss: 0.072519\n",
            "Train Epoch: 5 [19200/33600 (57%)]\tLoss: 0.079990\n",
            "Train Epoch: 5 [20800/33600 (62%)]\tLoss: 0.155825\n",
            "Train Epoch: 5 [22400/33600 (67%)]\tLoss: 0.318340\n",
            "Train Epoch: 5 [24000/33600 (71%)]\tLoss: 0.007192\n",
            "Train Epoch: 5 [25600/33600 (76%)]\tLoss: 0.200250\n",
            "Train Epoch: 5 [27200/33600 (81%)]\tLoss: 0.064200\n",
            "Train Epoch: 5 [28800/33600 (86%)]\tLoss: 0.263628\n",
            "Train Epoch: 5 [30400/33600 (90%)]\tLoss: 0.302463\n",
            "Train Epoch: 5 [32000/33600 (95%)]\tLoss: 0.047211\n",
            "Train Epoch: 5 [33600/33600 (100%)]\tLoss: 0.014083\n",
            "\n",
            "Val  Epoch Loss: 0.0345, Acc: 8313/8400 (98.96%)\n",
            "\n",
            "Train Epoch: 6 [1600/33600 (5%)]\tLoss: 0.031922\n",
            "Train Epoch: 6 [3200/33600 (10%)]\tLoss: 0.007248\n",
            "Train Epoch: 6 [4800/33600 (14%)]\tLoss: 0.055594\n",
            "Train Epoch: 6 [6400/33600 (19%)]\tLoss: 0.215688\n",
            "Train Epoch: 6 [8000/33600 (24%)]\tLoss: 0.040452\n",
            "Train Epoch: 6 [9600/33600 (29%)]\tLoss: 0.065679\n",
            "Train Epoch: 6 [11200/33600 (33%)]\tLoss: 0.400667\n",
            "Train Epoch: 6 [12800/33600 (38%)]\tLoss: 0.781846\n",
            "Train Epoch: 6 [14400/33600 (43%)]\tLoss: 0.241132\n",
            "Train Epoch: 6 [16000/33600 (48%)]\tLoss: 0.022561\n",
            "Train Epoch: 6 [17600/33600 (52%)]\tLoss: 0.426680\n",
            "Train Epoch: 6 [19200/33600 (57%)]\tLoss: 0.195689\n",
            "Train Epoch: 6 [20800/33600 (62%)]\tLoss: 0.214970\n",
            "Train Epoch: 6 [22400/33600 (67%)]\tLoss: 0.452504\n",
            "Train Epoch: 6 [24000/33600 (71%)]\tLoss: 0.007771\n",
            "Train Epoch: 6 [25600/33600 (76%)]\tLoss: 0.032161\n",
            "Train Epoch: 6 [27200/33600 (81%)]\tLoss: 0.168547\n",
            "Train Epoch: 6 [28800/33600 (86%)]\tLoss: 0.016819\n",
            "Train Epoch: 6 [30400/33600 (90%)]\tLoss: 0.018012\n",
            "Train Epoch: 6 [32000/33600 (95%)]\tLoss: 0.296742\n",
            "Train Epoch: 6 [33600/33600 (100%)]\tLoss: 0.040252\n",
            "\n",
            "Val  Epoch Loss: 0.0339, Acc: 8317/8400 (99.01%)\n",
            "\n",
            "Train Epoch: 7 [1600/33600 (5%)]\tLoss: 0.123436\n",
            "Train Epoch: 7 [3200/33600 (10%)]\tLoss: 0.009457\n",
            "Train Epoch: 7 [4800/33600 (14%)]\tLoss: 0.004287\n",
            "Train Epoch: 7 [6400/33600 (19%)]\tLoss: 0.156084\n",
            "Train Epoch: 7 [8000/33600 (24%)]\tLoss: 0.064405\n",
            "Train Epoch: 7 [9600/33600 (29%)]\tLoss: 0.108656\n",
            "Train Epoch: 7 [11200/33600 (33%)]\tLoss: 0.034194\n",
            "Train Epoch: 7 [12800/33600 (38%)]\tLoss: 0.017231\n",
            "Train Epoch: 7 [14400/33600 (43%)]\tLoss: 0.003936\n",
            "Train Epoch: 7 [16000/33600 (48%)]\tLoss: 0.009716\n",
            "Train Epoch: 7 [17600/33600 (52%)]\tLoss: 0.018264\n",
            "Train Epoch: 7 [19200/33600 (57%)]\tLoss: 0.110685\n",
            "Train Epoch: 7 [20800/33600 (62%)]\tLoss: 0.014821\n",
            "Train Epoch: 7 [22400/33600 (67%)]\tLoss: 0.108851\n",
            "Train Epoch: 7 [24000/33600 (71%)]\tLoss: 0.030423\n",
            "Train Epoch: 7 [25600/33600 (76%)]\tLoss: 0.027335\n",
            "Train Epoch: 7 [27200/33600 (81%)]\tLoss: 0.035490\n",
            "Train Epoch: 7 [28800/33600 (86%)]\tLoss: 0.231132\n",
            "Train Epoch: 7 [30400/33600 (90%)]\tLoss: 0.106402\n",
            "Train Epoch: 7 [32000/33600 (95%)]\tLoss: 0.042301\n",
            "Train Epoch: 7 [33600/33600 (100%)]\tLoss: 0.277873\n",
            "\n",
            "Val  Epoch Loss: 0.0278, Acc: 8340/8400 (99.29%)\n",
            "\n",
            "Train Epoch: 8 [1600/33600 (5%)]\tLoss: 0.053103\n",
            "Train Epoch: 8 [3200/33600 (10%)]\tLoss: 0.028344\n",
            "Train Epoch: 8 [4800/33600 (14%)]\tLoss: 0.263312\n",
            "Train Epoch: 8 [6400/33600 (19%)]\tLoss: 0.064793\n",
            "Train Epoch: 8 [8000/33600 (24%)]\tLoss: 0.025980\n",
            "Train Epoch: 8 [9600/33600 (29%)]\tLoss: 0.227637\n",
            "Train Epoch: 8 [11200/33600 (33%)]\tLoss: 0.090681\n",
            "Train Epoch: 8 [12800/33600 (38%)]\tLoss: 0.010780\n",
            "Train Epoch: 8 [14400/33600 (43%)]\tLoss: 0.037723\n",
            "Train Epoch: 8 [16000/33600 (48%)]\tLoss: 0.064200\n",
            "Train Epoch: 8 [17600/33600 (52%)]\tLoss: 0.008875\n",
            "Train Epoch: 8 [19200/33600 (57%)]\tLoss: 0.006117\n",
            "Train Epoch: 8 [20800/33600 (62%)]\tLoss: 0.215805\n",
            "Train Epoch: 8 [22400/33600 (67%)]\tLoss: 0.048576\n",
            "Train Epoch: 8 [24000/33600 (71%)]\tLoss: 0.009859\n",
            "Train Epoch: 8 [25600/33600 (76%)]\tLoss: 0.010978\n",
            "Train Epoch: 8 [27200/33600 (81%)]\tLoss: 0.082525\n",
            "Train Epoch: 8 [28800/33600 (86%)]\tLoss: 0.288903\n",
            "Train Epoch: 8 [30400/33600 (90%)]\tLoss: 0.008382\n",
            "Train Epoch: 8 [32000/33600 (95%)]\tLoss: 0.068587\n",
            "Train Epoch: 8 [33600/33600 (100%)]\tLoss: 0.001173\n",
            "\n",
            "Val  Epoch Loss: 0.0273, Acc: 8337/8400 (99.25%)\n",
            "\n",
            "Train Epoch: 9 [1600/33600 (5%)]\tLoss: 0.111712\n",
            "Train Epoch: 9 [3200/33600 (10%)]\tLoss: 0.010526\n",
            "Train Epoch: 9 [4800/33600 (14%)]\tLoss: 0.002104\n",
            "Train Epoch: 9 [6400/33600 (19%)]\tLoss: 0.028851\n",
            "Train Epoch: 9 [8000/33600 (24%)]\tLoss: 0.011208\n",
            "Train Epoch: 9 [9600/33600 (29%)]\tLoss: 0.032106\n",
            "Train Epoch: 9 [11200/33600 (33%)]\tLoss: 0.087092\n",
            "Train Epoch: 9 [12800/33600 (38%)]\tLoss: 0.013146\n",
            "Train Epoch: 9 [14400/33600 (43%)]\tLoss: 0.034140\n",
            "Train Epoch: 9 [16000/33600 (48%)]\tLoss: 0.133060\n",
            "Train Epoch: 9 [17600/33600 (52%)]\tLoss: 0.007856\n",
            "Train Epoch: 9 [19200/33600 (57%)]\tLoss: 0.194667\n",
            "Train Epoch: 9 [20800/33600 (62%)]\tLoss: 0.053451\n",
            "Train Epoch: 9 [22400/33600 (67%)]\tLoss: 0.109700\n",
            "Train Epoch: 9 [24000/33600 (71%)]\tLoss: 0.040373\n",
            "Train Epoch: 9 [25600/33600 (76%)]\tLoss: 0.023513\n",
            "Train Epoch: 9 [27200/33600 (81%)]\tLoss: 0.003249\n",
            "Train Epoch: 9 [28800/33600 (86%)]\tLoss: 0.016941\n",
            "Train Epoch: 9 [30400/33600 (90%)]\tLoss: 0.639949\n",
            "Train Epoch: 9 [32000/33600 (95%)]\tLoss: 0.022940\n",
            "Train Epoch: 9 [33600/33600 (100%)]\tLoss: 0.081573\n",
            "\n",
            "Val  Epoch Loss: 0.0288, Acc: 8334/8400 (99.21%)\n",
            "\n",
            "Train Epoch: 10 [1600/33600 (5%)]\tLoss: 0.029814\n",
            "Train Epoch: 10 [3200/33600 (10%)]\tLoss: 0.078556\n",
            "Train Epoch: 10 [4800/33600 (14%)]\tLoss: 0.021842\n",
            "Train Epoch: 10 [6400/33600 (19%)]\tLoss: 0.029446\n",
            "Train Epoch: 10 [8000/33600 (24%)]\tLoss: 0.036510\n",
            "Train Epoch: 10 [9600/33600 (29%)]\tLoss: 0.207153\n",
            "Train Epoch: 10 [11200/33600 (33%)]\tLoss: 0.004857\n",
            "Train Epoch: 10 [12800/33600 (38%)]\tLoss: 0.246918\n",
            "Train Epoch: 10 [14400/33600 (43%)]\tLoss: 0.114408\n",
            "Train Epoch: 10 [16000/33600 (48%)]\tLoss: 0.018467\n",
            "Train Epoch: 10 [17600/33600 (52%)]\tLoss: 0.022022\n",
            "Train Epoch: 10 [19200/33600 (57%)]\tLoss: 0.452815\n",
            "Train Epoch: 10 [20800/33600 (62%)]\tLoss: 0.024870\n",
            "Train Epoch: 10 [22400/33600 (67%)]\tLoss: 0.035877\n",
            "Train Epoch: 10 [24000/33600 (71%)]\tLoss: 0.350204\n",
            "Train Epoch: 10 [25600/33600 (76%)]\tLoss: 0.022044\n",
            "Train Epoch: 10 [27200/33600 (81%)]\tLoss: 0.001589\n",
            "Train Epoch: 10 [28800/33600 (86%)]\tLoss: 0.024241\n",
            "Train Epoch: 10 [30400/33600 (90%)]\tLoss: 0.009197\n",
            "Train Epoch: 10 [32000/33600 (95%)]\tLoss: 0.009639\n",
            "Train Epoch: 10 [33600/33600 (100%)]\tLoss: 0.195855\n",
            "\n",
            "Val  Epoch Loss: 0.0267, Acc: 8341/8400 (99.30%)\n",
            "\n"
          ]
        },
        {
          "output_type": "display_data",
          "data": {
            "text/plain": [
              "<Figure size 1000x200 with 1 Axes>"
            ],
            "image/png": "[encoded data removed]"
          },
          "metadata": {}
        }
      ],
      "source": [
        "import matplotlib.pyplot as plt\n",
        "\n",
        "# 1) Prepare containers\n",
        "train_losses = []\n",
        "val_losses   = []\n",
        "\n",
        "# 2) Modify train_model to return the epoch’s avg loss\n",
        "def train_model(num_epoch):\n",
        "    conv_model.train()\n",
        "    exp_lr_scheduler.step()\n",
        "\n",
        "    running_loss = 0.0\n",
        "    for batch_idx, (data, target) in enumerate(train_loader):\n",
        "        data = data.unsqueeze(1)\n",
        "        if torch.cuda.is_available():\n",
        "            data, target = data.cuda(), target.cuda()\n",
        "\n",
        "        optimizer.zero_grad()\n",
        "        output = conv_model(data)\n",
        "        loss = criterion(output, target)\n",
        "        loss.backward()\n",
        "        optimizer.step()\n",
        "\n",
        "        running_loss += loss.item() * data.size(0)\n",
        "\n",
        "        if (batch_idx + 1) % 100 == 0:\n",
        "            print(f'Train Epoch: {num_epoch} '\n",
        "                  f'[{(batch_idx+1)*len(data)}/{len(train_loader.dataset)} '\n",
        "                  f'({100.*(batch_idx+1)/len(train_loader):.0f}%)]\\t'\n",
        "                  f'Loss: {loss.item():.6f}')\n",
        "\n",
        "    epoch_loss = running_loss / len(train_loader.dataset)\n",
        "    return epoch_loss\n",
        "\n",
        "\n",
        "# 3) Modify evaluate to return avg val loss\n",
        "def evaluate(data_loader):\n",
        "    conv_model.eval()\n",
        "    running_loss = 0.0\n",
        "    correct = 0\n",
        "\n",
        "    with torch.no_grad():\n",
        "        for data, target in data_loader:\n",
        "            data = data.unsqueeze(1)\n",
        "            if torch.cuda.is_available():\n",
        "                data, target = data.cuda(), target.cuda()\n",
        "\n",
        "            output = conv_model(data)\n",
        "            # sum up batch loss\n",
        "            running_loss += F.cross_entropy(output, target, reduction='sum').item()\n",
        "            # count correct\n",
        "            pred = output.argmax(dim=1, keepdim=False)\n",
        "            correct += pred.eq(target).sum().item()\n",
        "\n",
        "    avg_loss = running_loss / len(data_loader.dataset)\n",
        "    accuracy = 100. * correct / len(data_loader.dataset)\n",
        "    print(f'\\nVal  Epoch Loss: {avg_loss:.4f}, Acc: {correct}/{len(data_loader.dataset)} ({accuracy:.2f}%)\\n')\n",
        "    return avg_loss\n",
        "\n",
        "\n",
        "# 4) Outer loop over epochs, collecting losses\n",
        "num_epochs = 10\n",
        "for epoch in range(1, num_epochs+1):\n",
        "    train_loss = train_model(epoch)\n",
        "    val_loss   = evaluate(val_loader)\n",
        "    train_losses.append(train_loss)\n",
        "    val_losses.append(val_loss)\n",
        "\n",
        "\n",
        "# 5) Plot both curves\n",
        "plt.figure()\n",
        "plt.plot(range(1, num_epochs+1), train_losses, label='Train Loss')\n",
        "plt.plot(range(1, num_epochs+1), val_losses,   label='Val Loss')\n",
        "plt.xlabel('Epoch')\n",
        "plt.ylabel('Average Loss')\n",
        "plt.legend()\n",
        "plt.title('Training vs. Validation Loss')\n",
        "plt.show()\n"
      ]
    },
    {
      "cell_type": "markdown",
      "metadata": {
        "id": "6EtDeHLcCtSM"
      },
      "source": [
        "#### Make predictions on the test set"
      ]
    },
    {
      "cell_type": "code",
      "execution_count": null,
      "metadata": {
        "id": "PYKeSdUbCtSM"
      },
      "outputs": [],
      "source": [
        "def make_predictions(data_loader):\n",
        "    conv_model.eval()\n",
        "    test_preds = torch.LongTensor()\n",
        "\n",
        "    for i, data in enumerate(data_loader):\n",
        "        data = data.unsqueeze(1)\n",
        "\n",
        "        if torch.cuda.is_available():\n",
        "            data = data.cuda()\n",
        "\n",
        "        output = conv_model(data)\n",
        "\n",
        "        preds = output.cpu().data.max(1, keepdim=True)[1]\n",
        "        test_preds = torch.cat((test_preds, preds), dim=0)\n",
        "\n",
        "    return test_preds"
      ]
    },
    {
      "cell_type": "code",
      "execution_count": null,
      "metadata": {
        "id": "niISrcfqCtSM"
      },
      "outputs": [],
      "source": [
        "test_set_preds = make_predictions(test_loader)"
      ]
    },
    {
      "cell_type": "markdown",
      "metadata": {
        "id": "jDYwe9YMCtSM"
      },
      "source": [
        "#### Prepare Submissions"
      ]
    },
    {
      "cell_type": "code",
      "execution_count": null,
      "metadata": {
        "id": "dSiCJj5XCtSM"
      },
      "outputs": [],
      "source": [
        "submission_df = pd.read_csv(\"../kaggle/input/digit-recognizer/sample_submission.csv\")"
      ]
    },
    {
      "cell_type": "code",
      "execution_count": null,
      "metadata": {
        "id": "tN2ioWAOCtSM"
      },
      "outputs": [],
      "source": [
        "submission_df['Label'] = test_set_preds.numpy().squeeze()\n",
        "submission_df.head()"
      ]
    },
    {
      "cell_type": "code",
      "execution_count": null,
      "metadata": {
        "id": "ZjMelemfCtSN"
      },
      "outputs": [],
      "source": [
        "submission_df.to_csv('../kaggle/input/digit-recognizer/submission.csv', index=False)"
      ]
    }
  ],
  "metadata": {
    "accelerator": "GPU",
    "colab": {
      "gpuType": "T4",
      "provenance": []
    },
    "kaggle": {
      "accelerator": "gpu",
      "dataSources": [
        {
          "databundleVersionId": 861823,
          "sourceId": 3004,
          "sourceType": "competition"
        }
      ],
      "dockerImageVersionId": 12836,
      "isGpuEnabled": true,
      "isInternetEnabled": false,
      "language": "python",
      "sourceType": "notebook"
    },
    "kernelspec": {
      "display_name": "Python 3",
      "name": "python3"
    },
    "language_info": {
      "codemirror_mode": {
        "name": "ipython",
        "version": 3
      },
      "file_extension": ".py",
      "mimetype": "text/x-python",
      "name": "python",
      "nbconvert_exporter": "python",
      "pygments_lexer": "ipython3",
      "version": "3.6.6"
    }
  },
  "nbformat": 4,
  "nbformat_minor": 0
}